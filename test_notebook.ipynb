{
 "cells": [
  {
   "cell_type": "code",
   "execution_count": 1,
   "metadata": {},
   "outputs": [],
   "source": [
    "from utils import Client\n",
    "from pprint import pprint\n",
    "import json\n",
    "from dotenv import load_dotenv\n",
    "import os"
   ]
  },
  {
   "cell_type": "code",
   "execution_count": 2,
   "metadata": {},
   "outputs": [],
   "source": [
    "load_dotenv()\n",
    "access_token: str = os.getenv(\"GITHUB_ACCESS_TOKEN\")"
   ]
  },
  {
   "cell_type": "code",
   "execution_count": 3,
   "metadata": {},
   "outputs": [],
   "source": [
    "client = Client(repo_names=[\"fastapi/fastapi\"], access_token=access_token)"
   ]
  },
  {
   "cell_type": "code",
   "execution_count": 4,
   "metadata": {},
   "outputs": [
    {
     "name": "stderr",
     "output_type": "stream",
     "text": [
      "50it [01:06,  1.33s/it]\n"
     ]
    }
   ],
   "source": [
    "fastapi_issues_pulls = client.get_issue_pulls(limit=50)"
   ]
  },
  {
   "cell_type": "code",
   "execution_count": 5,
   "metadata": {},
   "outputs": [
    {
     "name": "stdout",
     "output_type": "stream",
     "text": [
      "{'fastapi/fastapi': [{'issue': 12901, 'pull_requests': [12911]},\n",
      "                     {'issue': 12554, 'pull_requests': [12904, 12903, 12902]}]}\n"
     ]
    }
   ],
   "source": [
    "pprint(fastapi_issues_pulls)"
   ]
  },
  {
   "cell_type": "code",
   "execution_count": 6,
   "metadata": {},
   "outputs": [],
   "source": [
    "with open(\"example.json\", \"w\") as f:\n",
    "    json.dump(fastapi_issues_pulls, f)"
   ]
  }
 ],
 "metadata": {
  "kernelspec": {
   "display_name": "code-bench-hiXuOe_Y-py3.10",
   "language": "python",
   "name": "python3"
  },
  "language_info": {
   "codemirror_mode": {
    "name": "ipython",
    "version": 3
   },
   "file_extension": ".py",
   "mimetype": "text/x-python",
   "name": "python",
   "nbconvert_exporter": "python",
   "pygments_lexer": "ipython3",
   "version": "3.10.12"
  }
 },
 "nbformat": 4,
 "nbformat_minor": 2
}
